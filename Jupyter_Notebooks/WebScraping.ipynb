{
 "cells": [
  {
   "cell_type": "markdown",
   "metadata": {},
   "source": [
    "# Webscraper Example\n",
    "\n",
    "The goal of this notebook is to test out the webscraper implementation of libraries *request* and *beautifulsoup4*.  We will go through a simple example of creating a dataframe from information provided in weather.com."
   ]
  },
  {
   "cell_type": "code",
   "execution_count": 1,
   "metadata": {
    "collapsed": true
   },
   "outputs": [],
   "source": [
    "# Import libraries\n",
    "import pandas as pd\n",
    "import requests\n",
    "from bs4 import BeautifulSoup"
   ]
  },
  {
   "cell_type": "code",
   "execution_count": 2,
   "metadata": {
    "collapsed": false
   },
   "outputs": [
    {
     "name": "stdout",
     "output_type": "stream",
     "text": [
      "CPU times: user 123 ms, sys: 21.4 ms, total: 145 ms\n",
      "Wall time: 3.53 s\n"
     ]
    },
    {
     "data": {
      "text/plain": [
       "<Response [200]>"
      ]
     },
     "execution_count": 2,
     "metadata": {},
     "output_type": "execute_result"
    }
   ],
   "source": [
    "# Request page\n",
    "%time page = requests.get(\"https://weather.com/weather/tenday/l/USCT0257:1:US\")\n",
    "\n",
    "page\n",
    "# a response of 200 indicates page loaded"
   ]
  },
  {
   "cell_type": "code",
   "execution_count": 3,
   "metadata": {
    "collapsed": false
   },
   "outputs": [
    {
     "data": {
      "text/plain": [
       "[u'MAY 23',\n",
       " u'MAY 24',\n",
       " u'MAY 25',\n",
       " u'MAY 26',\n",
       " u'MAY 27',\n",
       " u'MAY 28',\n",
       " u'MAY 29',\n",
       " u'MAY 30',\n",
       " u'MAY 31',\n",
       " u'JUN 1',\n",
       " u'JUN 2',\n",
       " u'JUN 3',\n",
       " u'JUN 4',\n",
       " u'JUN 5',\n",
       " u'JUN 6']"
      ]
     },
     "execution_count": 3,
     "metadata": {},
     "output_type": "execute_result"
    }
   ],
   "source": [
    "# Note that the webpage links to the weather.com site for weston.  Let's graph the days in the 10 day forecast.\n",
    "\n",
    "# Initialize soup parser\n",
    "soup = BeautifulSoup(page.content, 'html.parser')\n",
    "\n",
    "# Find all tags with class \"day-detail clearfix\"\n",
    "soup.find_all(class_=\"day-detail clearfix\")\n",
    "\n",
    "date = []\n",
    "for i in soup.find_all(class_=\"day-detail clearfix\"):\n",
    "    date.append(i.get_text())\n",
    "    \n",
    "date\n"
   ]
  },
  {
   "cell_type": "code",
   "execution_count": 4,
   "metadata": {
    "collapsed": false
   },
   "outputs": [
    {
     "data": {
      "text/plain": [
       "[[u'54',\n",
       "  u'53',\n",
       "  u'54',\n",
       "  u'53',\n",
       "  u'54',\n",
       "  u'55',\n",
       "  u'55',\n",
       "  u'59',\n",
       "  u'55',\n",
       "  u'56',\n",
       "  u'57',\n",
       "  u'57',\n",
       "  u'58',\n",
       "  u'60'],\n",
       " [u'68',\n",
       "  u'58',\n",
       "  u'64',\n",
       "  u'70',\n",
       "  u'63',\n",
       "  u'63',\n",
       "  u'72',\n",
       "  u'74',\n",
       "  u'71',\n",
       "  u'72',\n",
       "  u'74',\n",
       "  u'74',\n",
       "  u'73',\n",
       "  u'76']]"
      ]
     },
     "execution_count": 4,
     "metadata": {},
     "output_type": "execute_result"
    }
   ],
   "source": [
    "# Now, let's grab the temperature for each day\n",
    "# Note that select identifies css labels - behaves just as find_all\n",
    "temps = soup.select(\"td.temp span\")\n",
    "\n",
    "max_temp = [] \n",
    "min_temp = []\n",
    "sep = u'\\xb0'\n",
    "\n",
    "\n",
    "for i in range(1, len(temps)-1):\n",
    "    if i % 3 == 0:\n",
    "        max_temp.append(temps[i].get_text().split(sep, 1)[0])\n",
    "    elif i % 3 == 2:\n",
    "        min_temp.append(temps[i].get_text().split(sep, 1)[0])\n",
    "\n",
    "[min_temp, max_temp]\n",
    "\n"
   ]
  },
  {
   "cell_type": "code",
   "execution_count": 7,
   "metadata": {
    "collapsed": false
   },
   "outputs": [
    {
     "data": {
      "text/html": [
       "<div>\n",
       "<table border=\"1\" class=\"dataframe\">\n",
       "  <thead>\n",
       "    <tr style=\"text-align: right;\">\n",
       "      <th></th>\n",
       "      <th>Date</th>\n",
       "      <th>Max</th>\n",
       "      <th>Min</th>\n",
       "    </tr>\n",
       "  </thead>\n",
       "  <tbody>\n",
       "    <tr>\n",
       "      <th>0</th>\n",
       "      <td>MAY 24</td>\n",
       "      <td>68</td>\n",
       "      <td>54</td>\n",
       "    </tr>\n",
       "    <tr>\n",
       "      <th>1</th>\n",
       "      <td>MAY 25</td>\n",
       "      <td>58</td>\n",
       "      <td>53</td>\n",
       "    </tr>\n",
       "    <tr>\n",
       "      <th>2</th>\n",
       "      <td>MAY 26</td>\n",
       "      <td>64</td>\n",
       "      <td>54</td>\n",
       "    </tr>\n",
       "    <tr>\n",
       "      <th>3</th>\n",
       "      <td>MAY 27</td>\n",
       "      <td>70</td>\n",
       "      <td>53</td>\n",
       "    </tr>\n",
       "    <tr>\n",
       "      <th>4</th>\n",
       "      <td>MAY 28</td>\n",
       "      <td>63</td>\n",
       "      <td>54</td>\n",
       "    </tr>\n",
       "    <tr>\n",
       "      <th>5</th>\n",
       "      <td>MAY 29</td>\n",
       "      <td>63</td>\n",
       "      <td>55</td>\n",
       "    </tr>\n",
       "    <tr>\n",
       "      <th>6</th>\n",
       "      <td>MAY 30</td>\n",
       "      <td>72</td>\n",
       "      <td>55</td>\n",
       "    </tr>\n",
       "    <tr>\n",
       "      <th>7</th>\n",
       "      <td>MAY 31</td>\n",
       "      <td>74</td>\n",
       "      <td>59</td>\n",
       "    </tr>\n",
       "    <tr>\n",
       "      <th>8</th>\n",
       "      <td>JUN 1</td>\n",
       "      <td>71</td>\n",
       "      <td>55</td>\n",
       "    </tr>\n",
       "    <tr>\n",
       "      <th>9</th>\n",
       "      <td>JUN 2</td>\n",
       "      <td>72</td>\n",
       "      <td>56</td>\n",
       "    </tr>\n",
       "    <tr>\n",
       "      <th>10</th>\n",
       "      <td>JUN 3</td>\n",
       "      <td>74</td>\n",
       "      <td>57</td>\n",
       "    </tr>\n",
       "    <tr>\n",
       "      <th>11</th>\n",
       "      <td>JUN 4</td>\n",
       "      <td>74</td>\n",
       "      <td>57</td>\n",
       "    </tr>\n",
       "    <tr>\n",
       "      <th>12</th>\n",
       "      <td>JUN 5</td>\n",
       "      <td>73</td>\n",
       "      <td>58</td>\n",
       "    </tr>\n",
       "    <tr>\n",
       "      <th>13</th>\n",
       "      <td>JUN 6</td>\n",
       "      <td>76</td>\n",
       "      <td>60</td>\n",
       "    </tr>\n",
       "  </tbody>\n",
       "</table>\n",
       "</div>"
      ],
      "text/plain": [
       "      Date Max Min\n",
       "0   MAY 24  68  54\n",
       "1   MAY 25  58  53\n",
       "2   MAY 26  64  54\n",
       "3   MAY 27  70  53\n",
       "4   MAY 28  63  54\n",
       "5   MAY 29  63  55\n",
       "6   MAY 30  72  55\n",
       "7   MAY 31  74  59\n",
       "8    JUN 1  71  55\n",
       "9    JUN 2  72  56\n",
       "10   JUN 3  74  57\n",
       "11   JUN 4  74  57\n",
       "12   JUN 5  73  58\n",
       "13   JUN 6  76  60"
      ]
     },
     "execution_count": 7,
     "metadata": {},
     "output_type": "execute_result"
    }
   ],
   "source": [
    "# Create dataframe of weather\n",
    "# Get rid of first day in forecast (today)\n",
    "date.pop(0)\n",
    "\n",
    "weather_10_day_forcast = pd.DataFrame({\"Date\": date, \"Min\": min_temp, \"Max\": max_temp})\n",
    "weather_10_day_forcast"
   ]
  },
  {
   "cell_type": "code",
   "execution_count": 16,
   "metadata": {
    "collapsed": false
   },
   "outputs": [
    {
     "data": {
      "text/html": [
       "<div>\n",
       "<table border=\"1\" class=\"dataframe\">\n",
       "  <thead>\n",
       "    <tr style=\"text-align: right;\">\n",
       "      <th></th>\n",
       "      <th>Date</th>\n",
       "      <th>Max</th>\n",
       "      <th>Min</th>\n",
       "      <th>Short Description</th>\n",
       "    </tr>\n",
       "  </thead>\n",
       "  <tbody>\n",
       "    <tr>\n",
       "      <th>0</th>\n",
       "      <td>MAY 24</td>\n",
       "      <td>68</td>\n",
       "      <td>54</td>\n",
       "      <td>AM Showers</td>\n",
       "    </tr>\n",
       "    <tr>\n",
       "      <th>1</th>\n",
       "      <td>MAY 25</td>\n",
       "      <td>58</td>\n",
       "      <td>53</td>\n",
       "      <td>Rain</td>\n",
       "    </tr>\n",
       "    <tr>\n",
       "      <th>2</th>\n",
       "      <td>MAY 26</td>\n",
       "      <td>64</td>\n",
       "      <td>54</td>\n",
       "      <td>Scattered Thunderstorms</td>\n",
       "    </tr>\n",
       "    <tr>\n",
       "      <th>3</th>\n",
       "      <td>MAY 27</td>\n",
       "      <td>70</td>\n",
       "      <td>53</td>\n",
       "      <td>Partly Cloudy</td>\n",
       "    </tr>\n",
       "    <tr>\n",
       "      <th>4</th>\n",
       "      <td>MAY 28</td>\n",
       "      <td>63</td>\n",
       "      <td>54</td>\n",
       "      <td>PM Showers</td>\n",
       "    </tr>\n",
       "    <tr>\n",
       "      <th>5</th>\n",
       "      <td>MAY 29</td>\n",
       "      <td>63</td>\n",
       "      <td>55</td>\n",
       "      <td>Cloudy</td>\n",
       "    </tr>\n",
       "    <tr>\n",
       "      <th>6</th>\n",
       "      <td>MAY 30</td>\n",
       "      <td>72</td>\n",
       "      <td>55</td>\n",
       "      <td>PM Thunderstorms</td>\n",
       "    </tr>\n",
       "    <tr>\n",
       "      <th>7</th>\n",
       "      <td>MAY 31</td>\n",
       "      <td>74</td>\n",
       "      <td>59</td>\n",
       "      <td>Mostly Sunny</td>\n",
       "    </tr>\n",
       "    <tr>\n",
       "      <th>8</th>\n",
       "      <td>JUN 1</td>\n",
       "      <td>71</td>\n",
       "      <td>55</td>\n",
       "      <td>Partly Cloudy</td>\n",
       "    </tr>\n",
       "    <tr>\n",
       "      <th>9</th>\n",
       "      <td>JUN 2</td>\n",
       "      <td>72</td>\n",
       "      <td>56</td>\n",
       "      <td>Mostly Sunny</td>\n",
       "    </tr>\n",
       "    <tr>\n",
       "      <th>10</th>\n",
       "      <td>JUN 3</td>\n",
       "      <td>74</td>\n",
       "      <td>57</td>\n",
       "      <td>Partly Cloudy</td>\n",
       "    </tr>\n",
       "    <tr>\n",
       "      <th>11</th>\n",
       "      <td>JUN 4</td>\n",
       "      <td>74</td>\n",
       "      <td>57</td>\n",
       "      <td>Partly Cloudy</td>\n",
       "    </tr>\n",
       "    <tr>\n",
       "      <th>12</th>\n",
       "      <td>JUN 5</td>\n",
       "      <td>73</td>\n",
       "      <td>58</td>\n",
       "      <td>Partly Cloudy</td>\n",
       "    </tr>\n",
       "    <tr>\n",
       "      <th>13</th>\n",
       "      <td>JUN 6</td>\n",
       "      <td>76</td>\n",
       "      <td>60</td>\n",
       "      <td>PM Thunderstorms</td>\n",
       "    </tr>\n",
       "  </tbody>\n",
       "</table>\n",
       "</div>"
      ],
      "text/plain": [
       "      Date Max Min        Short Description\n",
       "0   MAY 24  68  54               AM Showers\n",
       "1   MAY 25  58  53                     Rain\n",
       "2   MAY 26  64  54  Scattered Thunderstorms\n",
       "3   MAY 27  70  53            Partly Cloudy\n",
       "4   MAY 28  63  54               PM Showers\n",
       "5   MAY 29  63  55                   Cloudy\n",
       "6   MAY 30  72  55         PM Thunderstorms\n",
       "7   MAY 31  74  59             Mostly Sunny\n",
       "8    JUN 1  71  55            Partly Cloudy\n",
       "9    JUN 2  72  56             Mostly Sunny\n",
       "10   JUN 3  74  57            Partly Cloudy\n",
       "11   JUN 4  74  57            Partly Cloudy\n",
       "12   JUN 5  73  58            Partly Cloudy\n",
       "13   JUN 6  76  60         PM Thunderstorms"
      ]
     },
     "execution_count": 16,
     "metadata": {},
     "output_type": "execute_result"
    }
   ],
   "source": [
    "# Access short description\n",
    "short_des = soup.select(\"td.description span\")\n",
    "short_des.pop(0)\n",
    "sd = []\n",
    "for i in short_des:\n",
    "    sd.append(i.get_text())\n",
    "    \n",
    "sd = pd.Series(sd)\n",
    "weather_10_day_forcast[\"Short Description\"] = sd\n",
    "weather_10_day_forcast\n"
   ]
  },
  {
   "cell_type": "code",
   "execution_count": null,
   "metadata": {
    "collapsed": true
   },
   "outputs": [],
   "source": []
  }
 ],
 "metadata": {
  "kernelspec": {
   "display_name": "Python 2",
   "language": "python",
   "name": "python2"
  },
  "language_info": {
   "codemirror_mode": {
    "name": "ipython",
    "version": 2
   },
   "file_extension": ".py",
   "mimetype": "text/x-python",
   "name": "python",
   "nbconvert_exporter": "python",
   "pygments_lexer": "ipython2",
   "version": "2.7.13"
  }
 },
 "nbformat": 4,
 "nbformat_minor": 2
}
