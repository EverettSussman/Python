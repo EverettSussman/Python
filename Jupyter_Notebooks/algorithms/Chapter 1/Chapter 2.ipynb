{
 "cells": [
  {
   "cell_type": "markdown",
   "metadata": {},
   "source": [
    "# Chapter 2\n",
    "\n",
    "This workbook focuses on _insertion and merge sort_.  This is a sorting algorithm of asymptotic efficiency *O(n<sup>2</sup>)*.  For any element $j$ in set $A$, it inserts $A[j]$ to the left until it is larger than the previous value.  "
   ]
  },
  {
   "cell_type": "code",
   "execution_count": 59,
   "metadata": {
    "collapsed": false
   },
   "outputs": [],
   "source": [
    "import pandas as pd\n",
    "import numpy as np\n",
    "import matplotlib.pyplot as plt\n",
    "import seaborn as sns\n",
    "import time\n",
    "import random\n",
    "\n",
    "%matplotlib inline\n"
   ]
  },
  {
   "cell_type": "code",
   "execution_count": 3,
   "metadata": {
    "collapsed": false
   },
   "outputs": [],
   "source": [
    "# Insertion-Sort Algorithm, ascending order\n",
    "def ins_sort_asc(A):\n",
    "    for j in range(1, len(A)):\n",
    "        key = A[j]\n",
    "        i = j-1\n",
    "        while i >= 0 and A[i] > key:\n",
    "            A[i+1] = A[i]\n",
    "            i = i-1\n",
    "        A[i+1] = key\n",
    "    return A\n"
   ]
  },
  {
   "cell_type": "code",
   "execution_count": 4,
   "metadata": {
    "collapsed": false
   },
   "outputs": [
    {
     "data": {
      "text/plain": [
       "[1, 2, 3, 4, 5, 6, 7, 8]"
      ]
     },
     "execution_count": 4,
     "metadata": {},
     "output_type": "execute_result"
    }
   ],
   "source": [
    "# Example\n",
    "unsorted = [3,2,5,6,4,7,8,1]\n",
    "\n",
    "ins_sort_asc(unsorted)"
   ]
  },
  {
   "cell_type": "code",
   "execution_count": 5,
   "metadata": {
    "collapsed": true
   },
   "outputs": [],
   "source": [
    "# Insertion-Sort Algorithm, descending order\n",
    "def ins_sort_dec(A):\n",
    "    for j in range(1, len(A)):\n",
    "        key = A[j]\n",
    "        i = j-1\n",
    "        while i >= 0 and A[i] < key:\n",
    "            A[i+1] = A[i]\n",
    "            i = i-1\n",
    "        A[i+1] = key\n",
    "    return A\n"
   ]
  },
  {
   "cell_type": "code",
   "execution_count": 6,
   "metadata": {
    "collapsed": false
   },
   "outputs": [
    {
     "data": {
      "text/plain": [
       "[8, 7, 6, 5, 4, 3, 2, 1]"
      ]
     },
     "execution_count": 6,
     "metadata": {},
     "output_type": "execute_result"
    }
   ],
   "source": [
    "ins_sort_dec(unsorted)"
   ]
  },
  {
   "cell_type": "code",
   "execution_count": 7,
   "metadata": {
    "collapsed": true
   },
   "outputs": [],
   "source": [
    "# Problem 1-3\n",
    "# Linear search\n",
    "def lin_search(A, v):\n",
    "    # A is list of values, v is key\n",
    "    for j in range(0, len(A)):\n",
    "        if A[j] == v:\n",
    "            return j\n",
    "    return None\n",
    "            "
   ]
  },
  {
   "cell_type": "code",
   "execution_count": 8,
   "metadata": {
    "collapsed": false
   },
   "outputs": [],
   "source": [
    "# Example that should find value\n",
    "assert(lin_search(unsorted, 4) == 4)\n",
    "\n",
    "# Example that should not find value\n",
    "assert(lin_search(unsorted, 9) == None)\n"
   ]
  },
  {
   "cell_type": "code",
   "execution_count": 9,
   "metadata": {
    "collapsed": false
   },
   "outputs": [
    {
     "name": "stdout",
     "output_type": "stream",
     "text": [
      "100\n",
      "200\n",
      "300\n",
      "400\n",
      "500\n",
      "600\n",
      "700\n",
      "800\n",
      "900\n",
      "1000\n",
      "1100\n",
      "1200\n",
      "1300\n",
      "1400\n",
      "1500\n",
      "1600\n",
      "1700\n",
      "1800\n",
      "1900\n",
      "2000\n"
     ]
    }
   ],
   "source": [
    "# Here we will show that ins_sort_asc behaves with O(n^2)\n",
    "\n",
    "iter = 10\n",
    "\n",
    "l_length = 100\n",
    "\n",
    "# Magnitudes of 10\n",
    "steps = 20\n",
    "\n",
    "sizes = []\n",
    "for i in range(0, steps):\n",
    "    sizes.append(l_length + i*100)\n",
    "\n",
    "# Avg time list for each step\n",
    "time_list = []\n",
    "for i in sizes:\n",
    "    times = []\n",
    "    for j in range(0, iter):\n",
    "        unsorted = np.random.randint(l_length, size = i)\n",
    "        start = time.clock()\n",
    "        ins_sort_asc(unsorted)\n",
    "        lapse = time.clock() - start\n",
    "        times.append(lapse)\n",
    "    time_list.append(np.mean(times))\n",
    "    print i\n",
    "        \n"
   ]
  },
  {
   "cell_type": "code",
   "execution_count": 10,
   "metadata": {
    "collapsed": false
   },
   "outputs": [
    {
     "data": {
      "text/plain": [
       "[0.0023381999999999349,\n",
       " 0.0056555000000000797,\n",
       " 0.011271600000000026,\n",
       " 0.021356099999999944,\n",
       " 0.035265899999999961,\n",
       " 0.045581100000000062,\n",
       " 0.061057200000000034,\n",
       " 0.077698999999999963,\n",
       " 0.10146530000000009,\n",
       " 0.12563639999999995,\n",
       " 0.15185010000000024,\n",
       " 0.17810110000000012,\n",
       " 0.23407459999999994,\n",
       " 0.25546340000000017,\n",
       " 0.27273839999999971,\n",
       " 0.3286866,\n",
       " 0.3635748999999997,\n",
       " 0.40690049999999972,\n",
       " 0.47652759999999894,\n",
       " 0.47853049999999941]"
      ]
     },
     "execution_count": 10,
     "metadata": {},
     "output_type": "execute_result"
    }
   ],
   "source": [
    "time_list"
   ]
  },
  {
   "cell_type": "code",
   "execution_count": 11,
   "metadata": {
    "collapsed": false
   },
   "outputs": [
    {
     "data": {
      "text/html": [
       "<div>\n",
       "<table border=\"1\" class=\"dataframe\">\n",
       "  <thead>\n",
       "    <tr style=\"text-align: right;\">\n",
       "      <th></th>\n",
       "      <th>Size</th>\n",
       "      <th>Time</th>\n",
       "    </tr>\n",
       "  </thead>\n",
       "  <tbody>\n",
       "    <tr>\n",
       "      <th>0</th>\n",
       "      <td>100</td>\n",
       "      <td>0.002338</td>\n",
       "    </tr>\n",
       "    <tr>\n",
       "      <th>1</th>\n",
       "      <td>200</td>\n",
       "      <td>0.005656</td>\n",
       "    </tr>\n",
       "    <tr>\n",
       "      <th>2</th>\n",
       "      <td>300</td>\n",
       "      <td>0.011272</td>\n",
       "    </tr>\n",
       "    <tr>\n",
       "      <th>3</th>\n",
       "      <td>400</td>\n",
       "      <td>0.021356</td>\n",
       "    </tr>\n",
       "    <tr>\n",
       "      <th>4</th>\n",
       "      <td>500</td>\n",
       "      <td>0.035266</td>\n",
       "    </tr>\n",
       "    <tr>\n",
       "      <th>5</th>\n",
       "      <td>600</td>\n",
       "      <td>0.045581</td>\n",
       "    </tr>\n",
       "    <tr>\n",
       "      <th>6</th>\n",
       "      <td>700</td>\n",
       "      <td>0.061057</td>\n",
       "    </tr>\n",
       "    <tr>\n",
       "      <th>7</th>\n",
       "      <td>800</td>\n",
       "      <td>0.077699</td>\n",
       "    </tr>\n",
       "    <tr>\n",
       "      <th>8</th>\n",
       "      <td>900</td>\n",
       "      <td>0.101465</td>\n",
       "    </tr>\n",
       "    <tr>\n",
       "      <th>9</th>\n",
       "      <td>1000</td>\n",
       "      <td>0.125636</td>\n",
       "    </tr>\n",
       "    <tr>\n",
       "      <th>10</th>\n",
       "      <td>1100</td>\n",
       "      <td>0.151850</td>\n",
       "    </tr>\n",
       "    <tr>\n",
       "      <th>11</th>\n",
       "      <td>1200</td>\n",
       "      <td>0.178101</td>\n",
       "    </tr>\n",
       "    <tr>\n",
       "      <th>12</th>\n",
       "      <td>1300</td>\n",
       "      <td>0.234075</td>\n",
       "    </tr>\n",
       "    <tr>\n",
       "      <th>13</th>\n",
       "      <td>1400</td>\n",
       "      <td>0.255463</td>\n",
       "    </tr>\n",
       "    <tr>\n",
       "      <th>14</th>\n",
       "      <td>1500</td>\n",
       "      <td>0.272738</td>\n",
       "    </tr>\n",
       "    <tr>\n",
       "      <th>15</th>\n",
       "      <td>1600</td>\n",
       "      <td>0.328687</td>\n",
       "    </tr>\n",
       "    <tr>\n",
       "      <th>16</th>\n",
       "      <td>1700</td>\n",
       "      <td>0.363575</td>\n",
       "    </tr>\n",
       "    <tr>\n",
       "      <th>17</th>\n",
       "      <td>1800</td>\n",
       "      <td>0.406900</td>\n",
       "    </tr>\n",
       "    <tr>\n",
       "      <th>18</th>\n",
       "      <td>1900</td>\n",
       "      <td>0.476528</td>\n",
       "    </tr>\n",
       "    <tr>\n",
       "      <th>19</th>\n",
       "      <td>2000</td>\n",
       "      <td>0.478530</td>\n",
       "    </tr>\n",
       "  </tbody>\n",
       "</table>\n",
       "</div>"
      ],
      "text/plain": [
       "    Size      Time\n",
       "0    100  0.002338\n",
       "1    200  0.005656\n",
       "2    300  0.011272\n",
       "3    400  0.021356\n",
       "4    500  0.035266\n",
       "5    600  0.045581\n",
       "6    700  0.061057\n",
       "7    800  0.077699\n",
       "8    900  0.101465\n",
       "9   1000  0.125636\n",
       "10  1100  0.151850\n",
       "11  1200  0.178101\n",
       "12  1300  0.234075\n",
       "13  1400  0.255463\n",
       "14  1500  0.272738\n",
       "15  1600  0.328687\n",
       "16  1700  0.363575\n",
       "17  1800  0.406900\n",
       "18  1900  0.476528\n",
       "19  2000  0.478530"
      ]
     },
     "execution_count": 11,
     "metadata": {},
     "output_type": "execute_result"
    }
   ],
   "source": [
    "df = pd.DataFrame({\"Size\": sizes, \"Time\": time_list})\n",
    "df"
   ]
  },
  {
   "cell_type": "code",
   "execution_count": 31,
   "metadata": {
    "collapsed": false
   },
   "outputs": [
    {
     "data": {
      "image/png": "[encoded data removed]",
      "text/plain": [
       "<matplotlib.figure.Figure at 0x10ffa0fd0>"
      ]
     },
     "metadata": {},
     "output_type": "display_data"
    }
   ],
   "source": [
    "x = df.Size.tolist()\n",
    "y = df.Time.tolist()\n",
    "\n",
    "t = np.polyfit(x, y, 2)\n",
    "\n",
    "def f(x):\n",
    "    return t[0]*x**2 + t[1] * x + t[2]\n",
    "\n",
    "z = []\n",
    "for i in x:\n",
    "    z.append(f(i))\n",
    "\n",
    "plt.plot(x, y, label=\"Actual\")\n",
    "plt.plot(x, z, label=\"Regressed\")\n",
    "plt.legend()\n",
    "plt.show()\n"
   ]
  },
  {
   "cell_type": "code",
   "execution_count": 43,
   "metadata": {
    "collapsed": false
   },
   "outputs": [],
   "source": [
    "# Problem 2-3: average linear search\n",
    "\n",
    "times = []\n",
    "\n",
    "for i in range(0, 1000):\n",
    "    values = list(xrange(1,100))\n",
    "    random.shuffle(values)\n",
    "    start = time.clock()\n",
    "    lin_search(values, 50)\n",
    "    lapse = time.clock() - start\n",
    "    times.append(lapse)\n",
    "\n",
    "lindf = pd.DataFrame({\"Time\": times})\n",
    "lindf = lindf*1000\n"
   ]
  },
  {
   "cell_type": "code",
   "execution_count": 66,
   "metadata": {
    "collapsed": false
   },
   "outputs": [
    {
     "data": {
      "text/plain": [
       "[(0, 0.04)]"
      ]
     },
     "execution_count": 66,
     "metadata": {},
     "output_type": "execute_result"
    },
    {
     "data": {
      "image/png": "[encoded data removed]",
      "text/plain": [
       "<matplotlib.figure.Figure at 0x120c8e9d0>"
      ]
     },
     "metadata": {},
     "output_type": "display_data"
    }
   ],
   "source": [
    "# Generate Geom(1/1000) data\n",
    "z = np.random.geometric(p=1/1000, size=10000)\n",
    "fig = sns.kdeplot(np.array(z), bw=0.5)\n",
    "fig = sns.distplot(lindf.Time)\n",
    "fig.set(xlim=[0, .04])\n"
   ]
  },
  {
   "cell_type": "code",
   "execution_count": null,
   "metadata": {
    "collapsed": true
   },
   "outputs": [],
   "source": []
  }
 ],
 "metadata": {
  "kernelspec": {
   "display_name": "Python 2",
   "language": "python",
   "name": "python2"
  },
  "language_info": {
   "codemirror_mode": {
    "name": "ipython",
    "version": 2
   },
   "file_extension": ".py",
   "mimetype": "text/x-python",
   "name": "python",
   "nbconvert_exporter": "python",
   "pygments_lexer": "ipython2",
   "version": "2.7.13"
  }
 },
 "nbformat": 4,
 "nbformat_minor": 2
}
