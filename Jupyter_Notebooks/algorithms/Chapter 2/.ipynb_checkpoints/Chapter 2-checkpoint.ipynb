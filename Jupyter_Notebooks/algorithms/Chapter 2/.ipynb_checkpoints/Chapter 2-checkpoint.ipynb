{
 "cells": [
  {
   "cell_type": "markdown",
   "metadata": {},
   "source": [
    "# Chapter 2\n",
    "\n",
    "This workbook focuses on _insertion and merge sort_.  This is a sorting algorithm of asymptotic efficiency *O(n<sup>2</sup>)*.  For any element $j$ in set $A$, it inserts $A[j]$ to the left until it is larger than the previous value.  "
   ]
  },
  {
   "cell_type": "code",
   "execution_count": 1,
   "metadata": {
    "collapsed": false
   },
   "outputs": [],
   "source": [
    "import pandas as pd\n",
    "import numpy as np\n",
    "import matplotlib.pyplot as plt\n",
    "import seaborn as sns\n",
    "import time\n",
    "import random\n",
    "\n",
    "%matplotlib inline\n"
   ]
  },
  {
   "cell_type": "code",
   "execution_count": 2,
   "metadata": {
    "collapsed": false
   },
   "outputs": [],
   "source": [
    "# Insertion-Sort Algorithm, ascending order\n",
    "def ins_sort_asc(A):\n",
    "    for j in range(1, len(A)):\n",
    "        key = A[j]\n",
    "        i = j-1\n",
    "        while i >= 0 and A[i] > key:\n",
    "            A[i+1] = A[i]\n",
    "            i = i-1\n",
    "        A[i+1] = key\n",
    "    return A\n"
   ]
  },
  {
   "cell_type": "code",
   "execution_count": 3,
   "metadata": {
    "collapsed": false
   },
   "outputs": [
    {
     "data": {
      "text/plain": [
       "[1, 2, 3, 4, 5, 6, 7, 8]"
      ]
     },
     "execution_count": 3,
     "metadata": {},
     "output_type": "execute_result"
    }
   ],
   "source": [
    "# Example\n",
    "unsorted = [3,2,5,6,4,7,8,1]\n",
    "\n",
    "ins_sort_asc(unsorted)"
   ]
  },
  {
   "cell_type": "code",
   "execution_count": 4,
   "metadata": {
    "collapsed": true
   },
   "outputs": [],
   "source": [
    "# Insertion-Sort Algorithm, descending order\n",
    "def ins_sort_dec(A):\n",
    "    for j in range(1, len(A)):\n",
    "        key = A[j]\n",
    "        i = j-1\n",
    "        while i >= 0 and A[i] < key:\n",
    "            A[i+1] = A[i]\n",
    "            i = i-1\n",
    "        A[i+1] = key\n",
    "    return A\n"
   ]
  },
  {
   "cell_type": "code",
   "execution_count": 5,
   "metadata": {
    "collapsed": false
   },
   "outputs": [
    {
     "data": {
      "text/plain": [
       "[8, 7, 6, 5, 4, 3, 2, 1]"
      ]
     },
     "execution_count": 5,
     "metadata": {},
     "output_type": "execute_result"
    }
   ],
   "source": [
    "ins_sort_dec(unsorted)"
   ]
  },
  {
   "cell_type": "code",
   "execution_count": 6,
   "metadata": {
    "collapsed": true
   },
   "outputs": [],
   "source": [
    "# Problem 1-3\n",
    "# Linear search\n",
    "def lin_search(A, v):\n",
    "    # A is list of values, v is key\n",
    "    for j in range(0, len(A)):\n",
    "        if A[j] == v:\n",
    "            return j\n",
    "    return None\n",
    "            "
   ]
  },
  {
   "cell_type": "code",
   "execution_count": 7,
   "metadata": {
    "collapsed": false
   },
   "outputs": [],
   "source": [
    "# Example that should find value\n",
    "assert(lin_search(unsorted, 4) == 4)\n",
    "\n",
    "# Example that should not find value\n",
    "assert(lin_search(unsorted, 9) == None)\n"
   ]
  },
  {
   "cell_type": "code",
   "execution_count": 9,
   "metadata": {
    "collapsed": false
   },
   "outputs": [
    {
     "name": "stdout",
     "output_type": "stream",
     "text": [
      "100\n",
      "200\n",
      "300\n",
      "400\n",
      "500\n",
      "600\n",
      "700\n",
      "800\n",
      "900\n",
      "1000\n",
      "1100\n",
      "1200\n",
      "1300\n",
      "1400\n",
      "1500\n",
      "1600\n",
      "1700\n",
      "1800\n",
      "1900\n",
      "2000\n"
     ]
    }
   ],
   "source": [
    "# Here we will show that ins_sort_asc behaves with O(n^2)\n",
    "\n",
    "iter = 10\n",
    "\n",
    "l_length = 100\n",
    "\n",
    "# Magnitudes of 10\n",
    "steps = 20\n",
    "\n",
    "sizes = []\n",
    "for i in range(0, steps):\n",
    "    sizes.append(l_length + i*100)\n",
    "\n",
    "# Avg time list for each step\n",
    "time_list = []\n",
    "for i in sizes:\n",
    "    times = []\n",
    "    for j in range(0, iter):\n",
    "        unsorted = np.random.randint(l_length, size = i)\n",
    "        start = time.clock()\n",
    "        ins_sort_asc(unsorted)\n",
    "        lapse = time.clock() - start\n",
    "        times.append(lapse)\n",
    "    time_list.append(np.mean(times))\n",
    "    print i\n",
    "        \n"
   ]
  },
  {
   "cell_type": "code",
   "execution_count": 10,
   "metadata": {
    "collapsed": false
   },
   "outputs": [
    {
     "data": {
      "text/plain": [
       "[0.0023381999999999349,\n",
       " 0.0056555000000000797,\n",
       " 0.011271600000000026,\n",
       " 0.021356099999999944,\n",
       " 0.035265899999999961,\n",
       " 0.045581100000000062,\n",
       " 0.061057200000000034,\n",
       " 0.077698999999999963,\n",
       " 0.10146530000000009,\n",
       " 0.12563639999999995,\n",
       " 0.15185010000000024,\n",
       " 0.17810110000000012,\n",
       " 0.23407459999999994,\n",
       " 0.25546340000000017,\n",
       " 0.27273839999999971,\n",
       " 0.3286866,\n",
       " 0.3635748999999997,\n",
       " 0.40690049999999972,\n",
       " 0.47652759999999894,\n",
       " 0.47853049999999941]"
      ]
     },
     "execution_count": 10,
     "metadata": {},
     "output_type": "execute_result"
    }
   ],
   "source": [
    "time_list"
   ]
  },
  {
   "cell_type": "code",
   "execution_count": 11,
   "metadata": {
    "collapsed": false
   },
   "outputs": [
    {
     "data": {
      "text/html": [
       "<div>\n",
       "<table border=\"1\" class=\"dataframe\">\n",
       "  <thead>\n",
       "    <tr style=\"text-align: right;\">\n",
       "      <th></th>\n",
       "      <th>Size</th>\n",
       "      <th>Time</th>\n",
       "    </tr>\n",
       "  </thead>\n",
       "  <tbody>\n",
       "    <tr>\n",
       "      <th>0</th>\n",
       "      <td>100</td>\n",
       "      <td>0.002338</td>\n",
       "    </tr>\n",
       "    <tr>\n",
       "      <th>1</th>\n",
       "      <td>200</td>\n",
       "      <td>0.005656</td>\n",
       "    </tr>\n",
       "    <tr>\n",
       "      <th>2</th>\n",
       "      <td>300</td>\n",
       "      <td>0.011272</td>\n",
       "    </tr>\n",
       "    <tr>\n",
       "      <th>3</th>\n",
       "      <td>400</td>\n",
       "      <td>0.021356</td>\n",
       "    </tr>\n",
       "    <tr>\n",
       "      <th>4</th>\n",
       "      <td>500</td>\n",
       "      <td>0.035266</td>\n",
       "    </tr>\n",
       "    <tr>\n",
       "      <th>5</th>\n",
       "      <td>600</td>\n",
       "      <td>0.045581</td>\n",
       "    </tr>\n",
       "    <tr>\n",
       "      <th>6</th>\n",
       "      <td>700</td>\n",
       "      <td>0.061057</td>\n",
       "    </tr>\n",
       "    <tr>\n",
       "      <th>7</th>\n",
       "      <td>800</td>\n",
       "      <td>0.077699</td>\n",
       "    </tr>\n",
       "    <tr>\n",
       "      <th>8</th>\n",
       "      <td>900</td>\n",
       "      <td>0.101465</td>\n",
       "    </tr>\n",
       "    <tr>\n",
       "      <th>9</th>\n",
       "      <td>1000</td>\n",
       "      <td>0.125636</td>\n",
       "    </tr>\n",
       "    <tr>\n",
       "      <th>10</th>\n",
       "      <td>1100</td>\n",
       "      <td>0.151850</td>\n",
       "    </tr>\n",
       "    <tr>\n",
       "      <th>11</th>\n",
       "      <td>1200</td>\n",
       "      <td>0.178101</td>\n",
       "    </tr>\n",
       "    <tr>\n",
       "      <th>12</th>\n",
       "      <td>1300</td>\n",
       "      <td>0.234075</td>\n",
       "    </tr>\n",
       "    <tr>\n",
       "      <th>13</th>\n",
       "      <td>1400</td>\n",
       "      <td>0.255463</td>\n",
       "    </tr>\n",
       "    <tr>\n",
       "      <th>14</th>\n",
       "      <td>1500</td>\n",
       "      <td>0.272738</td>\n",
       "    </tr>\n",
       "    <tr>\n",
       "      <th>15</th>\n",
       "      <td>1600</td>\n",
       "      <td>0.328687</td>\n",
       "    </tr>\n",
       "    <tr>\n",
       "      <th>16</th>\n",
       "      <td>1700</td>\n",
       "      <td>0.363575</td>\n",
       "    </tr>\n",
       "    <tr>\n",
       "      <th>17</th>\n",
       "      <td>1800</td>\n",
       "      <td>0.406900</td>\n",
       "    </tr>\n",
       "    <tr>\n",
       "      <th>18</th>\n",
       "      <td>1900</td>\n",
       "      <td>0.476528</td>\n",
       "    </tr>\n",
       "    <tr>\n",
       "      <th>19</th>\n",
       "      <td>2000</td>\n",
       "      <td>0.478530</td>\n",
       "    </tr>\n",
       "  </tbody>\n",
       "</table>\n",
       "</div>"
      ],
      "text/plain": [
       "    Size      Time\n",
       "0    100  0.002338\n",
       "1    200  0.005656\n",
       "2    300  0.011272\n",
       "3    400  0.021356\n",
       "4    500  0.035266\n",
       "5    600  0.045581\n",
       "6    700  0.061057\n",
       "7    800  0.077699\n",
       "8    900  0.101465\n",
       "9   1000  0.125636\n",
       "10  1100  0.151850\n",
       "11  1200  0.178101\n",
       "12  1300  0.234075\n",
       "13  1400  0.255463\n",
       "14  1500  0.272738\n",
       "15  1600  0.328687\n",
       "16  1700  0.363575\n",
       "17  1800  0.406900\n",
       "18  1900  0.476528\n",
       "19  2000  0.478530"
      ]
     },
     "execution_count": 11,
     "metadata": {},
     "output_type": "execute_result"
    }
   ],
   "source": [
    "df = pd.DataFrame({\"Size\": sizes, \"Time\": time_list})\n",
    "df"
   ]
  },
  {
   "cell_type": "code",
   "execution_count": 31,
   "metadata": {
    "collapsed": false
   },
   "outputs": [
    {
     "data": {
      "image/png": "[encoded data removed]",
      "text/plain": [
       "<matplotlib.figure.Figure at 0x10ffa0fd0>"
      ]
     },
     "metadata": {},
     "output_type": "display_data"
    }
   ],
   "source": [
    "x = df.Size.tolist()\n",
    "y = df.Time.tolist()\n",
    "\n",
    "t = np.polyfit(x, y, 2)\n",
    "\n",
    "def f(x):\n",
    "    return t[0]*x**2 + t[1] * x + t[2]\n",
    "\n",
    "z = []\n",
    "for i in x:\n",
    "    z.append(f(i))\n",
    "\n",
    "plt.plot(x, y, label=\"Actual\")\n",
    "plt.plot(x, z, label=\"Regressed\")\n",
    "plt.legend()\n",
    "plt.show()\n"
   ]
  },
  {
   "cell_type": "code",
   "execution_count": 43,
   "metadata": {
    "collapsed": false
   },
   "outputs": [],
   "source": [
    "# Problem 2-3: average linear search\n",
    "\n",
    "times = []\n",
    "\n",
    "for i in range(0, 1000):\n",
    "    values = list(xrange(1,100))\n",
    "    random.shuffle(values)\n",
    "    start = time.clock()\n",
    "    lin_search(values, 50)\n",
    "    lapse = time.clock() - start\n",
    "    times.append(lapse)\n",
    "\n",
    "lindf = pd.DataFrame({\"Time\": times})\n",
    "lindf = lindf*1000\n"
   ]
  },
  {
   "cell_type": "code",
   "execution_count": 66,
   "metadata": {
    "collapsed": false
   },
   "outputs": [
    {
     "data": {
      "text/plain": [
       "[(0, 0.04)]"
      ]
     },
     "execution_count": 66,
     "metadata": {},
     "output_type": "execute_result"
    },
    {
     "data": {
      "image/png": "[encoded data removed]",
      "text/plain": [
       "<matplotlib.figure.Figure at 0x120c8e9d0>"
      ]
     },
     "metadata": {},
     "output_type": "display_data"
    }
   ],
   "source": [
    "# Generate Geom(1/1000) data\n",
    "z = np.random.geometric(p=1/1000, size=10000)\n",
    "fig = sns.kdeplot(np.array(z), bw=0.5)\n",
    "fig = sns.distplot(lindf.Time)\n",
    "fig.set(xlim=[0, .04])\n"
   ]
  },
  {
   "cell_type": "markdown",
   "metadata": {
    "collapsed": true
   },
   "source": [
    "# Merge Sort Algorithm\n"
   ]
  },
  {
   "cell_type": "code",
   "execution_count": 8,
   "metadata": {
    "collapsed": false
   },
   "outputs": [
    {
     "name": "stdout",
     "output_type": "stream",
     "text": [
      "[1, 2, 2, 3, 3, 3, 4, 4, 5, 7]\n"
     ]
    }
   ],
   "source": [
    "# Merge - creates one sorted pile from two smaller sorted piles\n",
    "import sys \n",
    "\n",
    "def merge(A, p, q, r):\n",
    "    n1 = q-p + 1\n",
    "    n2 = r-q\n",
    "    L, R = [], []\n",
    "    for i in range(0,n1):\n",
    "        L.append(A[p+i])\n",
    "    for j in range(0, n2):\n",
    "        R.append(A[q+ j + 1])\n",
    "    L.append(sys.maxint)\n",
    "    R.append(sys.maxint)\n",
    "    i, j = 0, 0\n",
    "    for k in range(p, r + 1):\n",
    "        if L[i] <= R[j]:\n",
    "            A[k] = L[i]\n",
    "            i += 1\n",
    "        else:\n",
    "            A[k] = R[j]\n",
    "            j += 1\n",
    "    return A\n",
    "\n",
    "# Test merge\n",
    "\n",
    "print merge([1,2,3,4,5,2,3,3,4,7], 0, 4, 9)\n",
    "    "
   ]
  },
  {
   "cell_type": "code",
   "execution_count": 9,
   "metadata": {
    "collapsed": false
   },
   "outputs": [],
   "source": [
    "# Merge Sort with O(n lg(n))\n",
    "\n",
    "def merge_sort(A, p, r):\n",
    "    if p < r:\n",
    "        q = int(np.floor((p+r)/2))\n",
    "        merge_sort(A, p, q)\n",
    "        merge_sort(A, q+1, r)\n",
    "        merge(A, p, q, r)\n",
    "    return A"
   ]
  },
  {
   "cell_type": "code",
   "execution_count": 10,
   "metadata": {
    "collapsed": false
   },
   "outputs": [
    {
     "data": {
      "text/plain": [
       "[1, 1, 2, 2, 3, 4, 4, 5, 5, 6, 7]"
      ]
     },
     "execution_count": 10,
     "metadata": {},
     "output_type": "execute_result"
    }
   ],
   "source": [
    "# Testing\n",
    "A = [1,2,3,4,5]\n",
    "assert(merge_sort(A, 0, len(A)-1) == A)\n",
    "B = [4,2,6,4,3,5,1,2,1,5,7]\n",
    "B_sorted = [1,1,2,2,3,4,4,5,5,6,7]\n",
    "assert(merge_sort(B, 0, len(B)-1) == B_sorted)\n",
    "\n",
    "merge_sort(B, 0, len(B)-1)"
   ]
  },
  {
   "cell_type": "code",
   "execution_count": 11,
   "metadata": {
    "collapsed": false
   },
   "outputs": [
    {
     "name": "stdout",
     "output_type": "stream",
     "text": [
      "15.561616 0.149168\n"
     ]
    }
   ],
   "source": [
    "# Compare merge sort time to insert sort\n",
    "\n",
    "np.random.seed(seed=123456789)\n",
    "\n",
    "start1 = time.clock()\n",
    "ins_sort_asc(np.random.randint(100, size=10000))\n",
    "lapse1 = time.clock()-start1\n",
    "\n",
    "start2 = time.clock()\n",
    "merge_sort(np.random.randint(100, size=10000), 0, 10000-1)\n",
    "lapse2 = time.clock() - start2\n",
    "\n",
    "# Difference of about 15 seconds, or almost 100-fold improvement\n",
    "print lapse1, lapse2\n"
   ]
  },
  {
   "cell_type": "code",
   "execution_count": 12,
   "metadata": {
    "collapsed": true
   },
   "outputs": [],
   "source": [
    "# Problem 3-2: Merge without sentinel values\n",
    "def new_merge(A, p, q, r):\n",
    "    n1 = q-p + 1\n",
    "    n2 = r-q\n",
    "    L, R = [], []\n",
    "    for i in range(0,n1):\n",
    "        L.append(A[p+i])\n",
    "    for j in range(0, n2):\n",
    "        R.append(A[q+ j + 1])\n",
    "    i, j = 0, 0\n",
    "    for k in range(p, r + 1):\n",
    "        if L[i] <= R[j]:\n",
    "            A[k] = L[i]\n",
    "            if i == len(L) - 1:\n",
    "                # A = A + R[j+1:len(R)]\n",
    "                return A\n",
    "            else:\n",
    "                i += 1\n",
    "        else:\n",
    "            A[k] = R[j]\n",
    "            if j == len(R) - 1:\n",
    "                # A = A+L[i+1:len(L)]\n",
    "                return A\n",
    "            else:\n",
    "                j += 1"
   ]
  },
  {
   "cell_type": "code",
   "execution_count": 13,
   "metadata": {
    "collapsed": false
   },
   "outputs": [
    {
     "data": {
      "text/plain": [
       "[1, 1, 2, 2, 3, 3, 4, 4, 5, 7]"
      ]
     },
     "execution_count": 13,
     "metadata": {},
     "output_type": "execute_result"
    }
   ],
   "source": [
    "new_merge([1,2,3,4,1,2,3,4,5,7], 0, 3, 9)"
   ]
  },
  {
   "cell_type": "code",
   "execution_count": 14,
   "metadata": {
    "collapsed": true
   },
   "outputs": [],
   "source": [
    "\n",
    "def new_merge_sort(A, p, r):\n",
    "    if p < r:\n",
    "        q = int(np.floor((p+r)/2))\n",
    "        new_merge_sort(A, p, q)\n",
    "        new_merge_sort(A, q+1, r)\n",
    "        new_merge(A, p, q, r)\n",
    "    return A"
   ]
  },
  {
   "cell_type": "code",
   "execution_count": 62,
   "metadata": {
    "collapsed": false
   },
   "outputs": [
    {
     "name": "stdout",
     "output_type": "stream",
     "text": [
      "18.717856 18.617925\n"
     ]
    }
   ],
   "source": [
    "# Compare new merge sort with old\n",
    "np.random.seed(seed=1212121)\n",
    "\n",
    "start1 = time.clock()\n",
    "merge_sort(np.random.randint(100, size=1000000), 0, 1000000-1)\n",
    "lapse1 = time.clock() - start1\n",
    "\n",
    "start2 = time.clock()\n",
    "new_merge_sort(np.random.randint(100, size=1000000), 0, 1000000-1)\n",
    "lapse2 = time.clock() - start2\n",
    "\n",
    "print lapse1, lapse2"
   ]
  },
  {
   "cell_type": "code",
   "execution_count": 63,
   "metadata": {
    "collapsed": false
   },
   "outputs": [
    {
     "name": "stdout",
     "output_type": "stream",
     "text": [
      "Percent improvement is: 0.533880589743%\n"
     ]
    }
   ],
   "source": [
    "print \"Percent improvement is: {}%\".format(abs(lapse1 - lapse2)/lapse1*100)"
   ]
  },
  {
   "cell_type": "code",
   "execution_count": 15,
   "metadata": {
    "collapsed": true
   },
   "outputs": [],
   "source": [
    "# Problem 3-4\n",
    "# Recursive insertion sort\n",
    "def rec_ins_sort(A, i):\n",
    "    if i < len(A):\n",
    "        j = i - 1\n",
    "        key = A[i]\n",
    "        while j >= 0 and A[j] > key:\n",
    "            A[j+1] = A[j]\n",
    "            j = j-1\n",
    "        A[j+1] = key\n",
    "        return rec_ins_sort(A, i+1)\n",
    "    else:\n",
    "        return A\n",
    "        \n",
    "# This has a run time of   \n",
    "# T(n) = c + T(n-1) => O(n^2)\n",
    "    "
   ]
  },
  {
   "cell_type": "code",
   "execution_count": 16,
   "metadata": {
    "collapsed": false
   },
   "outputs": [
    {
     "name": "stdout",
     "output_type": "stream",
     "text": [
      "[1, 2, 2, 2, 3]\n"
     ]
    }
   ],
   "source": [
    "print rec_ins_sort([1,2,3, 2, 2], 0)"
   ]
  },
  {
   "cell_type": "code",
   "execution_count": 25,
   "metadata": {
    "collapsed": false
   },
   "outputs": [
    {
     "name": "stdout",
     "output_type": "stream",
     "text": [
      "0.012624 0.006244\n"
     ]
    }
   ],
   "source": [
    "# Compare times of rec_ins_sort with standard\n",
    "np.random.seed(1234321)\n",
    "\n",
    "start1 = time.clock()\n",
    "ins_sort_asc(np.random.randint(100, size=200))\n",
    "lapse1 = time.clock() - start1\n",
    "\n",
    "start2 = time.clock()\n",
    "rec_ins_sort(np.random.randint(100, size=200), 0)\n",
    "lapse2 = time.clock() - start2\n",
    "\n",
    "print lapse1, lapse2"
   ]
  },
  {
   "cell_type": "code",
   "execution_count": 29,
   "metadata": {
    "collapsed": false
   },
   "outputs": [
    {
     "name": "stdout",
     "output_type": "stream",
     "text": [
      "rec_ins_sort is faster than ins_sort_asc by: 50.5386565272%.\n"
     ]
    }
   ],
   "source": [
    "print \"rec_ins_sort is faster than ins_sort_asc by: {}%.\".format(\n",
    "    (lapse1 - lapse2)/lapse1*100)"
   ]
  },
  {
   "cell_type": "code",
   "execution_count": 17,
   "metadata": {
    "collapsed": true
   },
   "outputs": [],
   "source": [
    "# Problem 3-5\n",
    "# Binary search algorithm with running time log(n)\n",
    "\n",
    "def bin_search(A, v):\n",
    "    # A is the list to search, v is value to search\n",
    "    low, high = 0, len(A) - 1\n",
    "    while low < high:\n",
    "        mid = int(np.floor((low + high)/2))\n",
    "        if A[mid] == v:\n",
    "            return mid\n",
    "        elif A[mid] < v:\n",
    "            low = mid + 1\n",
    "        else:\n",
    "            high = mid - 1\n",
    "    return None\n",
    "    \n",
    "    \n",
    "    \n",
    "    \n",
    "    \n",
    "    \n"
   ]
  },
  {
   "cell_type": "code",
   "execution_count": 18,
   "metadata": {
    "collapsed": false
   },
   "outputs": [
    {
     "name": "stdout",
     "output_type": "stream",
     "text": [
      "5\n"
     ]
    }
   ],
   "source": [
    "test = [1,2,3,4, 5,6,7,8]\n",
    "print bin_search(test, 6)"
   ]
  },
  {
   "cell_type": "markdown",
   "metadata": {},
   "source": [
    "To show that bin_search has $\\Theta(\\log n)$, we have the following recurrence (note that n here represents the distance p - q):\n",
    "$$T(n) = \\begin{cases} C_0, \\quad \\text{if } n = 0 \\\\ 2T(n/2) + D_0, \\quad \\text{if } n >= 1 \\end{cases}.$$\n",
    "\n",
    "As we can see from expanding the recurrence relation, this implies:\n",
    "\n",
    "$$T(n) \\Rightarrow 4T(n/4) + 2D_0 \\Rightarrow 2C_0 \\log(n) + \\log(n)D_0 \\Rightarrow \\Theta(\\log n).$$"
   ]
  },
  {
   "cell_type": "code",
   "execution_count": 34,
   "metadata": {
    "collapsed": true
   },
   "outputs": [],
   "source": [
    "def gen_sorted_list_val(n):\n",
    "    # n: length of list\n",
    "    ind = np.random.randint(n-1)\n",
    "    return ind"
   ]
  },
  {
   "cell_type": "code",
   "execution_count": 32,
   "metadata": {
    "collapsed": false
   },
   "outputs": [
    {
     "name": "stdout",
     "output_type": "stream",
     "text": [
      "0.0% complete.\n",
      "25.0% complete.\n",
      "50.0% complete.\n",
      "75.0% complete.\n",
      "100% complete.\n"
     ]
    }
   ],
   "source": [
    "# Visual confirmation:\n",
    "\n",
    "# number of data points\n",
    "n = 1000\n",
    "\n",
    "# Create list of array sizes\n",
    "sizes = []\n",
    "for i in range(0, n):\n",
    "    sizes.append(100 + i*100)\n",
    "\n",
    "# Time bin_search\n",
    "times = []\n",
    "\n",
    "for i in range(0, n):\n",
    "    avg_time = []\n",
    "    for j in range(0,100):\n",
    "        v = gen_sorted_list_val(sizes[i]-1)\n",
    "        l = range(0, sizes[i])\n",
    "        start = time.clock()\n",
    "        bin_search(l, v)\n",
    "        avg_time.append(time.clock() - start)\n",
    "    times.append(np.mean(avg_time))\n",
    "    \n",
    "    # Show progress report\n",
    "    c = float(i)/n * 100\n",
    "    if int(c) % 25 == 0 and c % 5 == 0:\n",
    "        print \"{}% complete.\".format(c)\n",
    "print \"100% complete.\"\n",
    "    \n",
    "\n",
    "\n",
    "\n"
   ]
  },
  {
   "cell_type": "code",
   "execution_count": 33,
   "metadata": {
    "collapsed": false
   },
   "outputs": [
    {
     "data": {
      "image/png": "[encoded data removed]",
      "text/plain": [
       "<matplotlib.figure.Figure at 0x119fc0490>"
      ]
     },
     "metadata": {},
     "output_type": "display_data"
    }
   ],
   "source": [
    "plt.semilogx(sizes, times, label=\"Bin_Search Data\")\n",
    "\n",
    "# Find regression for y = a + b log(x)\n",
    "a, b = np.polyfit(np.log(sizes), times, 1)\n",
    "plt.semilogx(sizes, a*np.log(sizes) + b, label=\"Logarithmic regression\")\n",
    "\n",
    "plt.legend()\n",
    "plt.show()"
   ]
  },
  {
   "cell_type": "markdown",
   "metadata": {},
   "source": [
    "We see that, as expected, bin_search appears to have a worst-case time complexity of $\\Theta(\\log n)$."
   ]
  },
  {
   "cell_type": "code",
   "execution_count": 35,
   "metadata": {
    "collapsed": false
   },
   "outputs": [
    {
     "ename": "ValueError",
     "evalue": "low >= high",
     "output_type": "error",
     "traceback": [
      "\u001b[0;31m---------------------------------------------------------------------------\u001b[0m",
      "\u001b[0;31mValueError\u001b[0m                                Traceback (most recent call last)",
      "\u001b[0;32m<ipython-input-35-ef658dc8692c>\u001b[0m in \u001b[0;36m<module>\u001b[0;34m()\u001b[0m\n\u001b[1;32m     17\u001b[0m     \u001b[0ml\u001b[0m \u001b[0;34m=\u001b[0m \u001b[0mrange\u001b[0m\u001b[0;34m(\u001b[0m\u001b[0;36m0\u001b[0m\u001b[0;34m,\u001b[0m \u001b[0msizes\u001b[0m\u001b[0;34m[\u001b[0m\u001b[0mi\u001b[0m\u001b[0;34m]\u001b[0m\u001b[0;34m)\u001b[0m\u001b[0;34m\u001b[0m\u001b[0m\n\u001b[1;32m     18\u001b[0m     \u001b[0;32mfor\u001b[0m \u001b[0mj\u001b[0m \u001b[0;32min\u001b[0m \u001b[0mrange\u001b[0m\u001b[0;34m(\u001b[0m\u001b[0;36m0\u001b[0m\u001b[0;34m,\u001b[0m \u001b[0;36m1000\u001b[0m\u001b[0;34m)\u001b[0m\u001b[0;34m:\u001b[0m\u001b[0;34m\u001b[0m\u001b[0m\n\u001b[0;32m---> 19\u001b[0;31m         \u001b[0mv\u001b[0m \u001b[0;34m=\u001b[0m \u001b[0mgen_sorted_list_val\u001b[0m\u001b[0;34m(\u001b[0m\u001b[0msizes\u001b[0m\u001b[0;34m[\u001b[0m\u001b[0mi\u001b[0m\u001b[0;34m]\u001b[0m\u001b[0;34m-\u001b[0m\u001b[0;36m1\u001b[0m\u001b[0;34m)\u001b[0m\u001b[0;34m\u001b[0m\u001b[0m\n\u001b[0m\u001b[1;32m     20\u001b[0m         \u001b[0mstart\u001b[0m \u001b[0;34m=\u001b[0m \u001b[0mtime\u001b[0m\u001b[0;34m.\u001b[0m\u001b[0mclock\u001b[0m\u001b[0;34m(\u001b[0m\u001b[0;34m)\u001b[0m\u001b[0;34m\u001b[0m\u001b[0m\n\u001b[1;32m     21\u001b[0m         \u001b[0mlin_search\u001b[0m\u001b[0;34m(\u001b[0m\u001b[0ml\u001b[0m\u001b[0;34m,\u001b[0m \u001b[0mv\u001b[0m\u001b[0;34m)\u001b[0m\u001b[0;34m\u001b[0m\u001b[0m\n",
      "\u001b[0;32m<ipython-input-34-56075bc7aa56>\u001b[0m in \u001b[0;36mgen_sorted_list_val\u001b[0;34m(n)\u001b[0m\n\u001b[1;32m      1\u001b[0m \u001b[0;32mdef\u001b[0m \u001b[0mgen_sorted_list_val\u001b[0m\u001b[0;34m(\u001b[0m\u001b[0mn\u001b[0m\u001b[0;34m)\u001b[0m\u001b[0;34m:\u001b[0m\u001b[0;34m\u001b[0m\u001b[0m\n\u001b[1;32m      2\u001b[0m     \u001b[0;31m# n: length of list\u001b[0m\u001b[0;34m\u001b[0m\u001b[0;34m\u001b[0m\u001b[0m\n\u001b[0;32m----> 3\u001b[0;31m     \u001b[0mind\u001b[0m \u001b[0;34m=\u001b[0m \u001b[0mnp\u001b[0m\u001b[0;34m.\u001b[0m\u001b[0mrandom\u001b[0m\u001b[0;34m.\u001b[0m\u001b[0mrandint\u001b[0m\u001b[0;34m(\u001b[0m\u001b[0mn\u001b[0m\u001b[0;34m-\u001b[0m\u001b[0;36m1\u001b[0m\u001b[0;34m)\u001b[0m\u001b[0;34m\u001b[0m\u001b[0m\n\u001b[0m\u001b[1;32m      4\u001b[0m     \u001b[0;32mreturn\u001b[0m \u001b[0mind\u001b[0m\u001b[0;34m\u001b[0m\u001b[0m\n",
      "\u001b[0;32mmtrand.pyx\u001b[0m in \u001b[0;36mmtrand.RandomState.randint (numpy/random/mtrand/mtrand.c:15485)\u001b[0;34m()\u001b[0m\n",
      "\u001b[0;31mValueError\u001b[0m: low >= high"
     ]
    }
   ],
   "source": [
    "# Comparison of linear search with binary search for small list size n\n",
    "\n",
    "# Number of data points\n",
    "rep = 100\n",
    "\n",
    "# Create list of array sizes\n",
    "sizes = []\n",
    "for i in range(0, rep):\n",
    "    sizes.append(1 + i)\n",
    "\n",
    "# Create array of times\n",
    "bin_times = []\n",
    "lin_times = []\n",
    "\n",
    "for i in range(0, rep):\n",
    "    avg_time = []\n",
    "    l = range(0, sizes[i])\n",
    "    for j in range(0, 1000):\n",
    "        v = gen_sorted_list_val(sizes[i])\n",
    "        start = time.clock()\n",
    "        lin_search(l, v)\n",
    "        avg_time.append(time.clock()-start)\n",
    "    lin_times.append(np.mean(avg_time))\n",
    "    avg_time = []\n",
    "    for j in range(0, 1000):\n",
    "        v = gen_sorted_list_val(sizes[i])\n",
    "        start = time.clock()\n",
    "        bin_search(l, v)\n",
    "        avg_time.append(time.clock()-start)\n",
    "    bin_times.append(np.mean(avg_time))\n",
    "    \n",
    "    # Show progress report\n",
    "    c = float(i)/n * 100\n",
    "    if int(c) % 25 == 0 and c % 5 == 0:\n",
    "        print \"{}% complete.\".format(c)\n",
    "print \"100% complete.\"\n"
   ]
  },
  {
   "cell_type": "code",
   "execution_count": null,
   "metadata": {
    "collapsed": true
   },
   "outputs": [],
   "source": []
  },
  {
   "cell_type": "code",
   "execution_count": null,
   "metadata": {
    "collapsed": true
   },
   "outputs": [],
   "source": []
  },
  {
   "cell_type": "code",
   "execution_count": null,
   "metadata": {
    "collapsed": true
   },
   "outputs": [],
   "source": []
  },
  {
   "cell_type": "code",
   "execution_count": 148,
   "metadata": {
    "collapsed": false
   },
   "outputs": [],
   "source": [
    "# Problem 3-6\n",
    "# Insertion sort with binary search, n log(n) worst-case run time?\n",
    "\n",
    "def bin_find(A, v):\n",
    "    # Takes list A and value v, \n",
    "    # returns index-1 where v >= preceding elements\n",
    "    low, high = 0, len(A)-1\n",
    "    while low < high and A[high] > v:\n",
    "        mid = int(np.floor((low + high)/2))\n",
    "        print low, mid, high\n",
    "        if A[mid] > v:\n",
    "            high = mid\n",
    "        elif A[mid] <= v:\n",
    "            if A[mid + 1] >= v:\n",
    "                return mid+1\n",
    "            else:\n",
    "                low = mid\n",
    "    return high + 1\n",
    "\n",
    "def bin_ins_sort(A):\n",
    "    for j in range(0, len(A)-1):\n",
    "        i = bin_find(A[0:j], A[j])\n",
    "        key = A[j]\n",
    "        if j != i:\n",
    "            while i < len(A) - 1:\n",
    "                A[i+1] = A[i]\n",
    "            A[i] = key\n",
    "        print i, j\n",
    "    return A\n",
    "            \n",
    "        \n",
    "            "
   ]
  },
  {
   "cell_type": "code",
   "execution_count": 23,
   "metadata": {
    "collapsed": false
   },
   "outputs": [
    {
     "data": {
      "text/plain": [
       "0.6666666666666666"
      ]
     },
     "execution_count": 23,
     "metadata": {},
     "output_type": "execute_result"
    }
   ],
   "source": [
    "float(2)/3\n"
   ]
  },
  {
   "cell_type": "code",
   "execution_count": null,
   "metadata": {
    "collapsed": true
   },
   "outputs": [],
   "source": []
  }
 ],
 "metadata": {
  "kernelspec": {
   "display_name": "Python 2",
   "language": "python",
   "name": "python2"
  },
  "language_info": {
   "codemirror_mode": {
    "name": "ipython",
    "version": 2
   },
   "file_extension": ".py",
   "mimetype": "text/x-python",
   "name": "python",
   "nbconvert_exporter": "python",
   "pygments_lexer": "ipython2",
   "version": "2.7.13"
  }
 },
 "nbformat": 4,
 "nbformat_minor": 2
}
